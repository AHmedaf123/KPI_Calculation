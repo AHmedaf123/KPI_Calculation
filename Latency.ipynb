{
  "nbformat": 4,
  "nbformat_minor": 0,
  "metadata": {
    "colab": {
      "provenance": []
    },
    "kernelspec": {
      "name": "python3",
      "display_name": "Python 3"
    },
    "language_info": {
      "name": "python"
    }
  },
  "cells": [
    {
      "cell_type": "code",
      "source": [
        "from datetime import datetime, timedelta\n",
        "import random\n",
        "import json"
      ],
      "metadata": {
        "id": "axsE_TEgwnZi"
      },
      "execution_count": 27,
      "outputs": []
    },
    {
      "cell_type": "code",
      "source": [
        "# Load JSON data\n",
        "file_path = \"lane_detection_simulation (1).json\"\n",
        "with open(file_path, \"r\") as file:\n",
        "    lane_data = json.load(file)"
      ],
      "metadata": {
        "id": "lm7y8f_IwrhU"
      },
      "execution_count": 28,
      "outputs": []
    },
    {
      "cell_type": "code",
      "source": [
        "def calculate_latency(start_time, end_time):\n",
        "    \"\"\"\n",
        "    Calculate latency in milliseconds between start time and end time.\n",
        "\n",
        "    Parameters:\n",
        "        start_time (str): ISO timestamp of image capture.\n",
        "        end_time (str): ISO timestamp of lane detection completion.\n",
        "\n",
        "    Returns:\n",
        "        float: Latency in milliseconds.\n",
        "    \"\"\"\n",
        "    start_dt = datetime.fromisoformat(start_time)\n",
        "    end_dt = datetime.fromisoformat(end_time)\n",
        "    latency = (end_dt - start_dt).total_seconds() * 1000  # Convert to milliseconds\n",
        "    return latency"
      ],
      "metadata": {
        "id": "JYF4pr9Ex6XL"
      },
      "execution_count": 29,
      "outputs": []
    },
    {
      "cell_type": "code",
      "source": [
        "# Simulate detection completion timestamps and calculate latency for each frame\n",
        "latency_results = []\n",
        "for frame in lane_data:\n",
        "    frame_id = frame[\"frame\"]\n",
        "    start_time = frame[\"timestamp\"]\n",
        "\n",
        "    # Simulate end time by adding a random processing delay (50 to 200 ms)\n",
        "    processing_delay_ms = random.randint(50, 200)\n",
        "    end_time = (datetime.fromisoformat(start_time) + timedelta(milliseconds=processing_delay_ms)).isoformat()\n",
        "\n",
        "    # Calculate latency\n",
        "    latency = calculate_latency(start_time, end_time)\n",
        "    latency_results.append({\"frame\": frame_id, \"latency_ms\": latency})"
      ],
      "metadata": {
        "id": "Vuagur1vyAVo"
      },
      "execution_count": 30,
      "outputs": []
    },
    {
      "cell_type": "code",
      "source": [
        "# Display latency results\n",
        "for result in latency_results:\n",
        "    print(f\"Frame {result['frame']}: Latency = {result['latency_ms']:.1f} ms\")"
      ],
      "metadata": {
        "colab": {
          "base_uri": "https://localhost:8080/"
        },
        "id": "ydnk_Y5tww1y",
        "outputId": "50b00994-191b-4c1d-f8ef-c878d8506ff6"
      },
      "execution_count": 31,
      "outputs": [
        {
          "output_type": "stream",
          "name": "stdout",
          "text": [
            "Frame 1: Latency = 69.0 ms\n",
            "Frame 2: Latency = 173.0 ms\n",
            "Frame 3: Latency = 122.0 ms\n",
            "Frame 4: Latency = 103.0 ms\n",
            "Frame 5: Latency = 112.0 ms\n",
            "Frame 6: Latency = 193.0 ms\n",
            "Frame 7: Latency = 145.0 ms\n",
            "Frame 8: Latency = 110.0 ms\n",
            "Frame 9: Latency = 115.0 ms\n",
            "Frame 10: Latency = 180.0 ms\n"
          ]
        }
      ]
    }
  ]
}