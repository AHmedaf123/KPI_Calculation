{
  "nbformat": 4,
  "nbformat_minor": 0,
  "metadata": {
    "colab": {
      "provenance": []
    },
    "kernelspec": {
      "name": "python3",
      "display_name": "Python 3"
    },
    "language_info": {
      "name": "python"
    }
  },
  "cells": [
    {
      "cell_type": "code",
      "source": [
        "import json\n",
        "import math"
      ],
      "metadata": {
        "id": "JKiGbu38uv0P"
      },
      "execution_count": 10,
      "outputs": []
    },
    {
      "cell_type": "code",
      "source": [
        "# Load JSON data\n",
        "file_path = \"lane_detection_simulation (1).json\"\n",
        "with open(file_path, \"r\") as file:\n",
        "    lane_data = json.load(file)"
      ],
      "metadata": {
        "id": "D3swzaXNu0RX"
      },
      "execution_count": 11,
      "outputs": []
    },
    {
      "cell_type": "code",
      "source": [
        "# Function to calculate distance between two lines\n",
        "def line_distance(line1, line2):\n",
        "    \"\"\"\n",
        "    Calculate the average distance between two lines represented by start and end points.\n",
        "    line1: ((x1, y1), (x2, y2))\n",
        "    line2: ((x3, y3), (x4, y4))\n",
        "    \"\"\"\n",
        "    x1, y1, x2, y2 = *line1[0], *line1[1]\n",
        "    x3, y3, x4, y4 = *line2[0], *line2[1]\n",
        "\n",
        "    # Distance between two points\n",
        "    def point_dist(xa, ya, xb, yb):\n",
        "        return math.sqrt((xa - xb)**2 + (ya - yb)**2)\n",
        "\n",
        "    # Calculate distances between start and end points of lines\n",
        "    dist_start = point_dist(x1, y1, x3, y3)\n",
        "    dist_end = point_dist(x2, y2, x4, y4)\n",
        "\n",
        "    # Average distance\n",
        "    return (dist_start + dist_end) / 2"
      ],
      "metadata": {
        "id": "L2BM6N-ju20y"
      },
      "execution_count": 12,
      "outputs": []
    },
    {
      "cell_type": "code",
      "source": [
        "# Function to calculate lane marking accuracy for a single frame\n",
        "def calculate_accuracy(frame_data, tolerance=10):\n",
        "    ground_truth_lanes = [\n",
        "        (tuple(lane[\"start\"]), tuple(lane[\"end\"])) for lane in frame_data.values() if isinstance(lane, dict)\n",
        "    ]\n",
        "    detected_lanes = ground_truth_lanes  # Assuming detected lanes equal ground truth for this example\n",
        "\n",
        "    # Initialize metrics\n",
        "    true_positives = 0\n",
        "    false_positives = 0\n",
        "    false_negatives = 0\n",
        "\n",
        "    # Match detected lanes to ground truth lanes\n",
        "    matched_gt = set()  # To track matched ground truth lanes\n",
        "    for detected_lane in detected_lanes:\n",
        "        match_found = False\n",
        "        for i, gt_lane in enumerate(ground_truth_lanes):\n",
        "            if i not in matched_gt and line_distance(detected_lane, gt_lane) <= tolerance:\n",
        "                true_positives += 1\n",
        "                matched_gt.add(i)\n",
        "                match_found = True\n",
        "                break\n",
        "        if not match_found:\n",
        "            false_positives += 1\n",
        "\n",
        "    # Calculate false negatives (ground truth lanes not matched)\n",
        "    false_negatives = len(ground_truth_lanes) - len(matched_gt)\n",
        "\n",
        "    # Calculate accuracy\n",
        "    accuracy = (true_positives / (true_positives + false_positives + false_negatives)) * 100\n",
        "    return accuracy"
      ],
      "metadata": {
        "id": "K-t0_0U9u75A"
      },
      "execution_count": 13,
      "outputs": []
    },
    {
      "cell_type": "code",
      "source": [
        "# Process each frame in the JSON data\n",
        "results = []\n",
        "for frame in lane_data:\n",
        "    frame_id = frame[\"frame\"]\n",
        "    accuracy = calculate_accuracy(frame)\n",
        "    results.append({\"frame\": frame_id, \"accuracy\": accuracy})"
      ],
      "metadata": {
        "id": "mAximT2uvBrx"
      },
      "execution_count": 14,
      "outputs": []
    },
    {
      "cell_type": "code",
      "execution_count": 15,
      "metadata": {
        "colab": {
          "base_uri": "https://localhost:8080/"
        },
        "id": "QsK5x9s_fkyq",
        "outputId": "b5d76b3e-cd78-4652-e788-911f772767f1"
      },
      "outputs": [
        {
          "output_type": "stream",
          "name": "stdout",
          "text": [
            "Frame 1: Accuracy = 100.00%\n",
            "Frame 2: Accuracy = 100.00%\n",
            "Frame 3: Accuracy = 100.00%\n",
            "Frame 4: Accuracy = 100.00%\n",
            "Frame 5: Accuracy = 100.00%\n",
            "Frame 6: Accuracy = 100.00%\n",
            "Frame 7: Accuracy = 100.00%\n",
            "Frame 8: Accuracy = 100.00%\n",
            "Frame 9: Accuracy = 100.00%\n",
            "Frame 10: Accuracy = 100.00%\n"
          ]
        }
      ],
      "source": [
        "# Display results\n",
        "for result in results:\n",
        "    print(f\"Frame {result['frame']}: Accuracy = {result['accuracy']:.2f}%\")"
      ]
    }
  ]
}