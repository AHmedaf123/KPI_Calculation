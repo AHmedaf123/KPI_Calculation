{
  "nbformat": 4,
  "nbformat_minor": 0,
  "metadata": {
    "colab": {
      "provenance": []
    },
    "kernelspec": {
      "name": "python3",
      "display_name": "Python 3"
    },
    "language_info": {
      "name": "python"
    }
  },
  "cells": [
    {
      "cell_type": "code",
      "source": [
        "import json\n",
        "import math"
      ],
      "metadata": {
        "id": "axsE_TEgwnZi"
      },
      "execution_count": 2,
      "outputs": []
    },
    {
      "cell_type": "code",
      "source": [
        "# Load JSON data\n",
        "file_path = \"lane_detection_simulation (1).json\"\n",
        "with open(file_path, \"r\") as file:\n",
        "    lane_data = json.load(file)"
      ],
      "metadata": {
        "id": "lm7y8f_IwrhU"
      },
      "execution_count": 3,
      "outputs": []
    },
    {
      "cell_type": "code",
      "source": [
        "# Function to calculate mean and max deviation between ground truth and detected lanes\n",
        "def calculate_deviation(ground_truth_lanes, detected_lanes):\n",
        "    \"\"\"\n",
        "    Calculate the mean and max deviation between ground truth and detected lane boundaries.\n",
        "\n",
        "    Parameters:\n",
        "        ground_truth_lanes: List of tuples [(start, end), ...] for ground truth lanes.\n",
        "        detected_lanes: List of tuples [(start, end), ...] for detected lanes.\n",
        "\n",
        "    Returns:\n",
        "        List of dicts with mean and max deviations for each lane.\n",
        "    \"\"\"\n",
        "    deviations = []\n",
        "\n",
        "    for gt_lane, detected_lane in zip(ground_truth_lanes, detected_lanes):\n",
        "        gt_start, gt_end = gt_lane\n",
        "        det_start, det_end = detected_lane\n",
        "\n",
        "        # Calculate deviations for start and end points\n",
        "        start_deviation = math.sqrt((gt_start[0] - det_start[0])**2 + (gt_start[1] - det_start[1])**2)\n",
        "        end_deviation = math.sqrt((gt_end[0] - det_end[0])**2 + (gt_end[1] - det_end[1])**2)\n",
        "\n",
        "        # Mean and Max deviation\n",
        "        mean_deviation = (start_deviation + end_deviation) / 2\n",
        "        max_deviation = max(start_deviation, end_deviation)\n",
        "\n",
        "        deviations.append({\"mean_deviation\": mean_deviation, \"max_deviation\": max_deviation})\n",
        "\n",
        "    return deviations"
      ],
      "metadata": {
        "id": "ydnk_Y5tww1y"
      },
      "execution_count": 4,
      "outputs": []
    },
    {
      "cell_type": "code",
      "source": [
        "# Process each frame to calculate deviations\n",
        "deviation_results = []\n",
        "for frame in lane_data:\n",
        "    frame_id = frame[\"frame\"]\n",
        "    ground_truth_lanes = [\n",
        "        (tuple(lane[\"start\"]), tuple(lane[\"end\"])) for lane in frame.values() if isinstance(lane, dict)\n",
        "    ]\n",
        "    detected_lanes = ground_truth_lanes  # Assuming detected lanes equal ground truth for this example\n",
        "\n",
        "    # Calculate deviations for the frame\n",
        "    frame_deviations = calculate_deviation(ground_truth_lanes, detected_lanes)\n",
        "    deviation_results.append({\"frame\": frame_id, \"deviations\": frame_deviations})"
      ],
      "metadata": {
        "id": "SE552SQzw2u_"
      },
      "execution_count": 5,
      "outputs": []
    },
    {
      "cell_type": "code",
      "execution_count": 6,
      "metadata": {
        "colab": {
          "base_uri": "https://localhost:8080/"
        },
        "id": "SnknrqHewO6C",
        "outputId": "33766a28-8724-44ba-cc5e-315728089b4a"
      },
      "outputs": [
        {
          "output_type": "stream",
          "name": "stdout",
          "text": [
            "Frame 1:\n",
            "  Lane 1: Mean Deviation = 0.00, Max Deviation = 0.00\n",
            "  Lane 2: Mean Deviation = 0.00, Max Deviation = 0.00\n",
            "  Lane 3: Mean Deviation = 0.00, Max Deviation = 0.00\n",
            "Frame 2:\n",
            "  Lane 1: Mean Deviation = 0.00, Max Deviation = 0.00\n",
            "  Lane 2: Mean Deviation = 0.00, Max Deviation = 0.00\n",
            "  Lane 3: Mean Deviation = 0.00, Max Deviation = 0.00\n",
            "Frame 3:\n",
            "  Lane 1: Mean Deviation = 0.00, Max Deviation = 0.00\n",
            "  Lane 2: Mean Deviation = 0.00, Max Deviation = 0.00\n",
            "  Lane 3: Mean Deviation = 0.00, Max Deviation = 0.00\n",
            "Frame 4:\n",
            "  Lane 1: Mean Deviation = 0.00, Max Deviation = 0.00\n",
            "  Lane 2: Mean Deviation = 0.00, Max Deviation = 0.00\n",
            "  Lane 3: Mean Deviation = 0.00, Max Deviation = 0.00\n",
            "Frame 5:\n",
            "  Lane 1: Mean Deviation = 0.00, Max Deviation = 0.00\n",
            "  Lane 2: Mean Deviation = 0.00, Max Deviation = 0.00\n",
            "  Lane 3: Mean Deviation = 0.00, Max Deviation = 0.00\n",
            "Frame 6:\n",
            "  Lane 1: Mean Deviation = 0.00, Max Deviation = 0.00\n",
            "  Lane 2: Mean Deviation = 0.00, Max Deviation = 0.00\n",
            "  Lane 3: Mean Deviation = 0.00, Max Deviation = 0.00\n",
            "Frame 7:\n",
            "  Lane 1: Mean Deviation = 0.00, Max Deviation = 0.00\n",
            "  Lane 2: Mean Deviation = 0.00, Max Deviation = 0.00\n",
            "  Lane 3: Mean Deviation = 0.00, Max Deviation = 0.00\n",
            "Frame 8:\n",
            "  Lane 1: Mean Deviation = 0.00, Max Deviation = 0.00\n",
            "  Lane 2: Mean Deviation = 0.00, Max Deviation = 0.00\n",
            "  Lane 3: Mean Deviation = 0.00, Max Deviation = 0.00\n",
            "Frame 9:\n",
            "  Lane 1: Mean Deviation = 0.00, Max Deviation = 0.00\n",
            "  Lane 2: Mean Deviation = 0.00, Max Deviation = 0.00\n",
            "  Lane 3: Mean Deviation = 0.00, Max Deviation = 0.00\n",
            "Frame 10:\n",
            "  Lane 1: Mean Deviation = 0.00, Max Deviation = 0.00\n",
            "  Lane 2: Mean Deviation = 0.00, Max Deviation = 0.00\n",
            "  Lane 3: Mean Deviation = 0.00, Max Deviation = 0.00\n"
          ]
        }
      ],
      "source": [
        "# Display deviation results for each frame\n",
        "for result in deviation_results:\n",
        "    print(f\"Frame {result['frame']}:\")\n",
        "    for i, deviation in enumerate(result[\"deviations\"], 1):\n",
        "        print(f\"  Lane {i}: Mean Deviation = {deviation['mean_deviation']:.2f}, Max Deviation = {deviation['max_deviation']:.2f}\")"
      ]
    }
  ]
}